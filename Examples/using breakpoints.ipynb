{
 "cells": [
  {
   "cell_type": "code",
   "execution_count": 1,
   "metadata": {},
   "outputs": [],
   "source": [
    "import roboflo as rf\n",
    "import numpy as np"
   ]
  },
  {
   "cell_type": "markdown",
   "metadata": {},
   "source": [
    "# Quick initialization of our system\n",
    "\n",
    "Please refer to the \"basic usage.ipynb\" example if this section doesn't make sense"
   ]
  },
  {
   "cell_type": "code",
   "execution_count": 2,
   "metadata": {},
   "outputs": [],
   "source": [
    "hotplate = rf.Worker(\n",
    "    name='hotplate',\n",
    "    capacity=8\n",
    ")\n",
    "\n",
    "spincoater = rf.Worker(\n",
    "    name='spincoater',\n",
    "    capacity=1\n",
    ")\n",
    "\n",
    "storage = rf.Worker(\n",
    "    name='storage',\n",
    "    capacity=45,\n",
    "    initial_fill=45 #the storage starts full!\n",
    ")\n",
    "\n",
    "characterization = rf.Worker(\n",
    "    name='characterization line',\n",
    "    capacity=1\n",
    ")\n",
    "\n",
    "arm = rf.Worker(\n",
    "    name='arm',\n",
    "    capacity=1\n",
    ")"
   ]
  },
  {
   "cell_type": "code",
   "execution_count": 37,
   "metadata": {},
   "outputs": [],
   "source": [
    "transitions = [\n",
    "    rf.Transition(\n",
    "        duration=28,\n",
    "        source=storage,\n",
    "        destination=spincoater,\n",
    "        workers=[arm]\n",
    "    ),\n",
    "    rf.Transition(\n",
    "        duration=20,\n",
    "        source=spincoater,\n",
    "        destination=hotplate,\n",
    "        workers=[arm]\n",
    "    ),\n",
    "    rf.Transition(\n",
    "        duration=20,\n",
    "        source=spincoater,\n",
    "        destination=storage,\n",
    "        workers=[arm]\n",
    "    ),\n",
    "    rf.Transition(\n",
    "        duration=15,\n",
    "        source=hotplate,\n",
    "        destination=storage,\n",
    "        workers=[arm]\n",
    "    ),\n",
    "    rf.Transition(\n",
    "        duration=15,\n",
    "        source=storage,\n",
    "        destination=characterization,\n",
    "        workers=[arm]\n",
    "    ),\n",
    "    rf.Transition(\n",
    "        duration=15,\n",
    "        source=characterization,\n",
    "        destination=storage,\n",
    "        workers=[arm]\n",
    "    ),\n",
    "    rf.Transition(\n",
    "        duration=15,\n",
    "        source=characterization,\n",
    "        destination=hotplate,\n",
    "        workers=[arm]\n",
    "    )\n",
    "]"
   ]
  },
  {
   "cell_type": "markdown",
   "metadata": {},
   "source": [
    "# Setting breakpoints on high-priority tasks\n",
    "\n",
    "Any task can be assigned as a \"breakpoint\" task by setting `rf.Task(breakpoint=True)`. When solving the schedule, `roboflo` will break the total task list into chunks, divided at each breakpoint. For a given protocol, the first \"chunk\" will contain tasks up to the first \"breakpoint\" task, and then all \"immediate\" tasks following. The second \"chunk\" will contain tasks to the next \"breakpoint\" + \"immediate\" antecedents, etc. The overall schedule will be solved one chunk at a time.\n",
    "\n",
    "The purpose of \"breakpoints\" are to provide priority to certain tasks that must occur as early as possible in the schedule. Example: when spincoating on glass substrates, the glass is cleaned prior to the experiment start to allow for good coating. The longer the glass sits idle, the worse the coating will be, so we set the first spincoating `Task` as a \"breakpoint\" to get them done as early as possible"
   ]
  },
  {
   "cell_type": "code",
   "execution_count": 63,
   "metadata": {},
   "outputs": [],
   "source": [
    "def add_generic_protocol(breakpoint_on_first_spincoat = False):\n",
    "    \"\"\"\n",
    "    Makes a protocol with some random durations to simulate changing parameters as the experiment progresses\n",
    "    \"\"\"\n",
    "    system.generate_protocol(\n",
    "        worklist = [\n",
    "            rf.Task(\n",
    "                name='spincoat',\n",
    "                workers=[spincoater],\n",
    "                duration=40 + np.random.random()*20,\n",
    "                immediate=True,\n",
    "                breakpoint=breakpoint_on_first_spincoat, #If we want to solve the schedule up to this task first, this should be True\n",
    "            ),\n",
    "            rf.Task(\n",
    "                name='anneal',\n",
    "                workers=[hotplate],\n",
    "                duration=np.random.choice([180, 240, 360]),\n",
    "                immediate=True\n",
    "            ),\n",
    "            rf.Task(\n",
    "                name='rest',\n",
    "                workers=[storage],\n",
    "                duration=180,\n",
    "                immediate=True\n",
    "            ),\n",
    "            rf.Task(\n",
    "                name='spincoat again',\n",
    "                workers=[spincoater],\n",
    "                duration = 130,\n",
    "                immediate=False\n",
    "            ),\n",
    "            rf.Task(\n",
    "                name='rest',\n",
    "                workers=[storage],\n",
    "                duration=180,\n",
    "                immediate=False,\n",
    "            ),\n",
    "            rf.Task(\n",
    "                name='characterize',\n",
    "                workers=[characterization],\n",
    "                duration=500,\n",
    "                immediate=False\n",
    "            ),\n",
    "],\n",
    "        min_start=0\n",
    "    )"
   ]
  },
  {
   "cell_type": "markdown",
   "metadata": {},
   "source": [
    "## Solve without breakpoints"
   ]
  },
  {
   "cell_type": "code",
   "execution_count": 64,
   "metadata": {},
   "outputs": [],
   "source": [
    "system = rf.System(\n",
    "    workers=[storage, spincoater, hotplate, arm, characterization],\n",
    "    transitions=transitions,\n",
    "    starting_worker=storage,\n",
    "    ending_worker=storage,\n",
    ")"
   ]
  },
  {
   "cell_type": "code",
   "execution_count": 65,
   "metadata": {},
   "outputs": [],
   "source": [
    "for i in range(10): #10 sample example experiment\n",
    "    add_generic_protocol(\n",
    "        breakpoint_on_first_spincoat=False,\n",
    "        )"
   ]
  },
  {
   "cell_type": "markdown",
   "metadata": {},
   "source": [
    "In this example, the first spincoater step per protocol is much shorter than the second, and is immediately followed by heating on the hotplate. Note that there are gaps in the hotplate schedule, interwoven short/long spincoat steps, and a total runtime of <1.75 hrs"
   ]
  },
  {
   "cell_type": "code",
   "execution_count": 66,
   "metadata": {},
   "outputs": [
    {
     "name": "stdout",
     "output_type": "stream",
     "text": [
      "Solving final schedule\n",
      "\tsolution status: OPTIMAL\n"
     ]
    },
    {
     "data": {
      "image/png": "[encoded data removed]",
      "text/plain": [
       "<Figure size 1008x360 with 2 Axes>"
      ]
     },
     "metadata": {
      "needs_background": "light"
     },
     "output_type": "display_data"
    }
   ],
   "source": [
    "system.scheduler.solve(\n",
    "    solve_time=10,\n",
    ")\n",
    "system.scheduler.plot_solution()"
   ]
  },
  {
   "cell_type": "markdown",
   "metadata": {},
   "source": [
    "## Solve with breakpoint on first spincoat `Task`"
   ]
  },
  {
   "cell_type": "code",
   "execution_count": 67,
   "metadata": {},
   "outputs": [],
   "source": [
    "system = rf.System(\n",
    "    workers=[storage, spincoater, hotplate, arm, characterization],\n",
    "    transitions=transitions,\n",
    "    starting_worker=storage,\n",
    "    ending_worker=storage,\n",
    ")"
   ]
  },
  {
   "cell_type": "code",
   "execution_count": 68,
   "metadata": {},
   "outputs": [],
   "source": [
    "for i in range(10): #10 sample example experiment\n",
    "    add_generic_protocol(\n",
    "        breakpoint_on_first_spincoat=True,\n",
    "        )"
   ]
  },
  {
   "cell_type": "markdown",
   "metadata": {},
   "source": [
    "Now you see that all short spincoat steps complete before the long steps begin. The total experiment time has increased, but we have prioritized the time sensitive steps to happen as early as possible!"
   ]
  },
  {
   "cell_type": "code",
   "execution_count": 69,
   "metadata": {},
   "outputs": [
    {
     "name": "stdout",
     "output_type": "stream",
     "text": [
      "Solving intermediate schedule up to breakpoint 0\n",
      "\tsolution status: OPTIMAL\n",
      "Solving final schedule\n",
      "\tsolution status: OPTIMAL\n"
     ]
    },
    {
     "data": {
      "image/png": "[encoded data removed]",
      "text/plain": [
       "<Figure size 1008x360 with 2 Axes>"
      ]
     },
     "metadata": {
      "needs_background": "light"
     },
     "output_type": "display_data"
    }
   ],
   "source": [
    "system.scheduler.solve(\n",
    "    solve_time=10,\n",
    ")\n",
    "system.scheduler.plot_solution()"
   ]
  }
 ],
 "metadata": {
  "kernelspec": {
   "display_name": "Python 3.8.13 ('alab')",
   "language": "python",
   "name": "python3"
  },
  "language_info": {
   "codemirror_mode": {
    "name": "ipython",
    "version": 3
   },
   "file_extension": ".py",
   "mimetype": "text/x-python",
   "name": "python",
   "nbconvert_exporter": "python",
   "pygments_lexer": "ipython3",
   "version": "3.8.13"
  },
  "orig_nbformat": 4,
  "vscode": {
   "interpreter": {
    "hash": "72cea66af7e377da7a9524951bdc2a523fda5c71ff240fdded7fed5446e2877e"
   }
  }
 },
 "nbformat": 4,
 "nbformat_minor": 2
}
