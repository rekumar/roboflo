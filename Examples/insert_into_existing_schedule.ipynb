{
 "cells": [
  {
   "cell_type": "code",
   "execution_count": 1,
   "metadata": {},
   "outputs": [],
   "source": [
    "from tasks import Task, Transition, Worker, System\n",
    "from scheduler import Scheduler\n",
    "import matplotlib.pyplot as plt\n",
    "import numpy as np"
   ]
  },
  {
   "cell_type": "code",
   "execution_count": 12,
   "metadata": {},
   "outputs": [],
   "source": [
    "hotplate = Worker(\n",
    "    name='hotplate',\n",
    "    capacity=25\n",
    ")\n",
    "\n",
    "spincoater = Worker(\n",
    "    name='spincoater',\n",
    "    capacity=1\n",
    ")\n",
    "\n",
    "storage = Worker(\n",
    "    name='storage',\n",
    "    capacity=45,\n",
    "    initial_fill=45\n",
    ")\n",
    "\n",
    "characterization = Worker(\n",
    "    name='characterization line',\n",
    "    capacity=1\n",
    ")\n",
    "\n",
    "arm = Worker(\n",
    "    name='arm',\n",
    "    capacity=1\n",
    ")"
   ]
  },
  {
   "cell_type": "code",
   "execution_count": 13,
   "metadata": {},
   "outputs": [],
   "source": [
    "transitions = [\n",
    "    Transition(\n",
    "        duration=28,\n",
    "        source=storage,\n",
    "        destination=spincoater,\n",
    "        workers=[arm]\n",
    "    ),\n",
    "    Transition(\n",
    "        duration=20,\n",
    "        source=spincoater,\n",
    "        destination=hotplate,\n",
    "        workers=[arm]\n",
    "    ),\n",
    "    Transition(\n",
    "        duration=15,\n",
    "        source=hotplate,\n",
    "        destination=storage,\n",
    "        workers=[arm]\n",
    "    ),\n",
    "    Transition(\n",
    "        duration=15,\n",
    "        source=storage,\n",
    "        destination=characterization,\n",
    "        workers=[arm]\n",
    "    ),\n",
    "    Transition(\n",
    "        duration=15,\n",
    "        source=characterization,\n",
    "        destination=storage,\n",
    "        workers=[arm]\n",
    "    )\n",
    "]"
   ]
  },
  {
   "cell_type": "code",
   "execution_count": 14,
   "metadata": {},
   "outputs": [],
   "source": [
    "system = System(\n",
    "    workers=[storage, spincoater, hotplate, arm, characterization],\n",
    "    transitions=transitions,\n",
    "    starting_worker=storage,\n",
    "    ending_worker=storage\n",
    ")"
   ]
  },
  {
   "cell_type": "code",
   "execution_count": 15,
   "metadata": {},
   "outputs": [],
   "source": [
    "def generic_worklist(idx, min_start=0):\n",
    "    return system.generate_protocol(\n",
    "        name = f'sample{idx}',\n",
    "        worklist = [\n",
    "            Task(\n",
    "                name='spincoat',\n",
    "                workers=[spincoater],\n",
    "                duration=40 + np.random.random()*20,\n",
    "                immediate=True,\n",
    "            ),\n",
    "            Task(\n",
    "                name='anneal',\n",
    "                workers=[hotplate],\n",
    "                duration=np.random.choice([1800, 2400]),\n",
    "                immediate=True\n",
    "            ),\n",
    "            Task(\n",
    "                name='rest',\n",
    "                workers=[storage],\n",
    "                duration=180,\n",
    "                immediate=True\n",
    "            ),\n",
    "            Task(\n",
    "                name='characterize',\n",
    "                workers=[characterization],\n",
    "                duration=300,\n",
    "                immediate=False\n",
    "            ),\n",
    "        ],\n",
    "        min_start=min_start\n",
    "    )"
   ]
  },
  {
   "cell_type": "code",
   "execution_count": 56,
   "metadata": {},
   "outputs": [],
   "source": [
    "p1 = [generic_worklist(0+i, 0) for i in range(10)]"
   ]
  },
  {
   "cell_type": "markdown",
   "metadata": {},
   "source": [
    "# Scheduling"
   ]
  },
  {
   "cell_type": "code",
   "execution_count": 57,
   "metadata": {},
   "outputs": [
    {
     "name": "stdout",
     "output_type": "stream",
     "text": [
      "solution status: FEASIBLE\n"
     ]
    },
    {
     "data": {
      "image/png": "[encoded data removed]",
      "text/plain": [
       "<Figure size 1008x360 with 2 Axes>"
      ]
     },
     "metadata": {
      "needs_background": "light"
     },
     "output_type": "display_data"
    }
   ],
   "source": [
    "scheduler = Scheduler(\n",
    "    system=system,\n",
    "    protocols=p1,\n",
    "    enforce_protocol_order=False\n",
    ")\n",
    "scheduler.solve(solve_time=10)\n",
    "scheduler.plot_solution()"
   ]
  },
  {
   "cell_type": "code",
   "execution_count": 58,
   "metadata": {},
   "outputs": [],
   "source": [
    "def add_and_solve(batch_size):\n",
    "    n_protocols = len(scheduler.protocols)\n",
    "    start_time = scheduler.get_tasklist_by_worker()[characterization][-5].end + 60\n",
    "    print(start_time)\n",
    "    p1 = [generic_worklist(n_protocols+i, start_time) for i in range(batch_size)]\n",
    "    scheduler.add_protocols(p1)\n",
    "    scheduler.solve(solve_time=10)"
   ]
  },
  {
   "cell_type": "code",
   "execution_count": 59,
   "metadata": {},
   "outputs": [
    {
     "name": "stdout",
     "output_type": "stream",
     "text": [
      "4109\n",
      "solution status: OPTIMAL\n",
      "4439\n",
      "solution status: OPTIMAL\n",
      "4769\n",
      "solution status: OPTIMAL\n",
      "5099\n",
      "solution status: OPTIMAL\n",
      "5429\n",
      "solution status: OPTIMAL\n",
      "7175\n",
      "solution status: OPTIMAL\n",
      "7513\n",
      "solution status: OPTIMAL\n",
      "7843\n",
      "solution status: OPTIMAL\n",
      "8173\n",
      "solution status: OPTIMAL\n",
      "8503\n",
      "solution status: OPTIMAL\n",
      "10241\n",
      "solution status: OPTIMAL\n",
      "10571\n",
      "solution status: OPTIMAL\n",
      "10901\n",
      "solution status: OPTIMAL\n",
      "11231\n",
      "solution status: OPTIMAL\n",
      "11561\n",
      "solution status: OPTIMAL\n",
      "12708\n",
      "solution status: OPTIMAL\n",
      "13637\n",
      "solution status: OPTIMAL\n",
      "13967\n",
      "solution status: OPTIMAL\n",
      "14297\n",
      "solution status: OPTIMAL\n",
      "14633\n",
      "solution status: OPTIMAL\n",
      "15782\n",
      "solution status: OPTIMAL\n",
      "16704\n",
      "solution status: OPTIMAL\n",
      "17041\n",
      "solution status: OPTIMAL\n",
      "17371\n",
      "solution status: OPTIMAL\n",
      "17701\n",
      "solution status: OPTIMAL\n",
      "18245\n",
      "solution status: OPTIMAL\n",
      "19766\n",
      "solution status: OPTIMAL\n",
      "20119\n",
      "solution status: OPTIMAL\n",
      "20449\n",
      "solution status: OPTIMAL\n",
      "20779\n",
      "solution status: OPTIMAL\n",
      "21313\n",
      "solution status: OPTIMAL\n",
      "22844\n",
      "solution status: OPTIMAL\n",
      "23174\n",
      "solution status: OPTIMAL\n",
      "23519\n",
      "solution status: OPTIMAL\n",
      "23849\n",
      "solution status: OPTIMAL\n"
     ]
    }
   ],
   "source": [
    "for i in range(35):\n",
    "    add_and_solve(1)"
   ]
  },
  {
   "cell_type": "code",
   "execution_count": 60,
   "metadata": {},
   "outputs": [
    {
     "data": {
      "text/plain": [
       "45"
      ]
     },
     "execution_count": 60,
     "metadata": {},
     "output_type": "execute_result"
    }
   ],
   "source": [
    "len(scheduler.protocols)"
   ]
  },
  {
   "cell_type": "code",
   "execution_count": 61,
   "metadata": {},
   "outputs": [
    {
     "data": {
      "image/png": "[encoded data removed]",
      "text/plain": [
       "<Figure size 1008x360 with 2 Axes>"
      ]
     },
     "metadata": {
      "needs_background": "light"
     },
     "output_type": "display_data"
    }
   ],
   "source": [
    "scheduler.plot_solution()"
   ]
  },
  {
   "cell_type": "code",
   "execution_count": null,
   "metadata": {},
   "outputs": [],
   "source": []
  }
 ],
 "metadata": {
  "interpreter": {
   "hash": "98098c180632dc34c2d481ea947af6f21f8ddd2925efa1f9cc0fafc572f11412"
  },
  "kernelspec": {
   "display_name": "Python 3.8.0 64-bit ('pascal': conda)",
   "language": "python",
   "name": "python3"
  },
  "language_info": {
   "codemirror_mode": {
    "name": "ipython",
    "version": 3
   },
   "file_extension": ".py",
   "mimetype": "text/x-python",
   "name": "python",
   "nbconvert_exporter": "python",
   "pygments_lexer": "ipython3",
   "version": "3.8.0"
  },
  "orig_nbformat": 4
 },
 "nbformat": 4,
 "nbformat_minor": 2
}
