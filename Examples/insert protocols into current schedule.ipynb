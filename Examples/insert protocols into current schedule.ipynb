{
 "cells": [
  {
   "cell_type": "markdown",
   "metadata": {},
   "source": [
    "# Table of Contents\n",
    "\n",
    "1. [Basic Usage](./basic%20usage.ipynb)\n",
    "2. Inserting Protocols into an existing schedule\n",
    "3. [Using Breakpoints](./using%20breakpoints.ipynb)"
   ]
  },
  {
   "cell_type": "code",
   "execution_count": 1,
   "metadata": {},
   "outputs": [],
   "source": [
    "import roboflo as rf\n",
    "import numpy as np\n",
    "import matplotlib.pyplot as plt"
   ]
  },
  {
   "cell_type": "markdown",
   "metadata": {},
   "source": [
    "# Quick initialization of our system\n",
    "\n",
    "Please refer to the [basic usage](./basic%20usage.ipynb) example if this section doesn't make sense"
   ]
  },
  {
   "cell_type": "code",
   "execution_count": 4,
   "metadata": {},
   "outputs": [],
   "source": [
    "hotplate = rf.Worker(\n",
    "    name='hotplate',\n",
    "    capacity=25\n",
    ")\n",
    "\n",
    "spincoater = rf.Worker(\n",
    "    name='spincoater',\n",
    "    capacity=1\n",
    ")\n",
    "\n",
    "storage = rf.Worker(\n",
    "    name='storage',\n",
    "    capacity=45,\n",
    ")\n",
    "\n",
    "characterization = rf.Worker(\n",
    "    name='characterization line',\n",
    "    capacity=1\n",
    ")\n",
    "\n",
    "arm = rf.Worker(\n",
    "    name='arm',\n",
    "    capacity=1\n",
    ")"
   ]
  },
  {
   "cell_type": "code",
   "execution_count": 5,
   "metadata": {},
   "outputs": [],
   "source": [
    "transitions = [\n",
    "    rf.Transition(\n",
    "        duration=28,\n",
    "        source=storage,\n",
    "        destination=spincoater,\n",
    "        workers=[arm]\n",
    "    ),\n",
    "    rf.Transition(\n",
    "        duration=20,\n",
    "        source=spincoater,\n",
    "        destination=hotplate,\n",
    "        workers=[arm]\n",
    "    ),\n",
    "    rf.Transition(\n",
    "        duration=15,\n",
    "        source=hotplate,\n",
    "        destination=storage,\n",
    "        workers=[arm]\n",
    "    ),\n",
    "    rf.Transition(\n",
    "        duration=15,\n",
    "        source=storage,\n",
    "        destination=characterization,\n",
    "        workers=[arm]\n",
    "    ),\n",
    "    rf.Transition(\n",
    "        duration=15,\n",
    "        source=characterization,\n",
    "        destination=storage,\n",
    "        workers=[arm]\n",
    "    ),\n",
    "    rf.Transition(\n",
    "        duration=30,\n",
    "        source=characterization,\n",
    "        destination=spincoater,\n",
    "        workers=[arm]\n",
    "    ),\n",
    "    rf.Transition(\n",
    "        duration=30,\n",
    "        source=spincoater,\n",
    "        destination=characterization,\n",
    "        workers=[arm]\n",
    "    )\n",
    "]"
   ]
  },
  {
   "cell_type": "markdown",
   "metadata": {},
   "source": [
    "# Inserting Protocols on the fly"
   ]
  },
  {
   "cell_type": "code",
   "execution_count": 22,
   "metadata": {},
   "outputs": [],
   "source": [
    "def add_generic_protocol(min_start=0):\n",
    "    \"\"\"\n",
    "    Makes a protocol with some random durations to simulate changing parameters as the experiment progresses\n",
    "    \"\"\"\n",
    "    system.generate_protocol(\n",
    "        worklist = [\n",
    "            rf.Task(\n",
    "                name='spincoat',\n",
    "                workers=[spincoater],\n",
    "                duration=40 + np.random.random()*20,\n",
    "                immediate=True,\n",
    "            ),\n",
    "            rf.Task(\n",
    "                name='anneal',\n",
    "                workers=[hotplate],\n",
    "                duration=np.random.choice([900, 1200, 1800]),\n",
    "                immediate=True\n",
    "            ),\n",
    "            rf.Task(\n",
    "                name='rest',\n",
    "                workers=[storage],\n",
    "                duration=180,\n",
    "                immediate=True\n",
    "            ),\n",
    "            rf.Task(\n",
    "                name='characterize',\n",
    "                workers=[characterization],\n",
    "                duration=300,\n",
    "                immediate=False\n",
    "            ),\n",
    "            rf.Task(\n",
    "                name='spincoat',\n",
    "                workers=[spincoater],\n",
    "                duration = 60 + np.random.random()*30,\n",
    "                immediate=False\n",
    "            ),\n",
    "            rf.Task(\n",
    "                name='characterize',\n",
    "                workers=[characterization],\n",
    "                duration=300,\n",
    "                immediate=False\n",
    "            ),        \n",
    "        ],\n",
    "        min_start=min_start\n",
    "    )"
   ]
  },
  {
   "cell_type": "markdown",
   "metadata": {},
   "source": [
    "Lets start with six protocols in the queue"
   ]
  },
  {
   "cell_type": "code",
   "execution_count": 23,
   "metadata": {},
   "outputs": [],
   "source": [
    "system = rf.System(\n",
    "    workers=[storage, spincoater, hotplate, arm, characterization],\n",
    "    transitions=transitions,\n",
    "    starting_worker=storage,\n",
    "    ending_worker=storage,\n",
    ")"
   ]
  },
  {
   "cell_type": "code",
   "execution_count": 24,
   "metadata": {},
   "outputs": [
    {
     "name": "stdout",
     "output_type": "stream",
     "text": [
      "Solving final schedule\n",
      "\tsolution status: OPTIMAL\n"
     ]
    },
    {
     "data": {
      "image/png": "[encoded data removed]",
      "text/plain": [
       "<Figure size 1008x360 with 2 Axes>"
      ]
     },
     "metadata": {
      "needs_background": "light"
     },
     "output_type": "display_data"
    }
   ],
   "source": [
    "for i in range(6):\n",
    "    add_generic_protocol()\n",
    "\n",
    "system.scheduler.solve(\n",
    "    solve_time=10,\n",
    ")\n",
    "system.scheduler.plot_solution()"
   ]
  },
  {
   "cell_type": "markdown",
   "metadata": {},
   "source": [
    "Now, we will pretend that, once all but the last five original protocols have completed, we will add a single new protocol for each earlier protocol that completes. We will also give ourselves some buffer time to plan and start the new protocol. \n",
    "\n",
    "This is a plausible scenario for closed-loop experimentation, where we might begin with a batch of experiments to initialize the search space, then follow up individual experiments in cycles of say Bayesian Optimization"
   ]
  },
  {
   "cell_type": "code",
   "execution_count": 25,
   "metadata": {},
   "outputs": [],
   "source": [
    "REMAINING_PROTOCOLS = 5\n",
    "BUFFER_TIME = 10\n",
    "BATCH_SIZE = 1\n",
    "\n",
    "def add_and_solve():\n",
    "    start_time = system.scheduler.get_tasklist_by_worker()[spincoater][-REMAINING_PROTOCOLS].end + BUFFER_TIME #characterization is the final worker, we look at the end time of that task and add some buffer time\n",
    "    for i in range(BATCH_SIZE):\n",
    "        add_generic_protocol(min_start = start_time)\n",
    "        \n",
    "    system.scheduler.solve(solve_time=10)\n",
    "    return start_time"
   ]
  },
  {
   "cell_type": "markdown",
   "metadata": {},
   "source": [
    "Simulating 10 rounds of additional samples inserted into the schedule. The vertical line shows the most recent start time (ie the earliest allowed start time for tasks from the latest protocol). This is to simulate scheduling tasks at that point in time -- we cant run things in the past :)"
   ]
  },
  {
   "cell_type": "code",
   "execution_count": 26,
   "metadata": {},
   "outputs": [
    {
     "name": "stdout",
     "output_type": "stream",
     "text": [
      "Solving final schedule\n",
      "\tsolution status: OPTIMAL\n",
      "Solving final schedule\n",
      "\tsolution status: OPTIMAL\n",
      "Solving final schedule\n",
      "\tsolution status: OPTIMAL\n",
      "Solving final schedule\n",
      "\tsolution status: OPTIMAL\n",
      "Solving final schedule\n",
      "\tsolution status: OPTIMAL\n",
      "Solving final schedule\n",
      "\tsolution status: OPTIMAL\n",
      "Solving final schedule\n",
      "\tsolution status: OPTIMAL\n",
      "Solving final schedule\n",
      "\tsolution status: OPTIMAL\n",
      "Solving final schedule\n",
      "\tsolution status: OPTIMAL\n",
      "Solving final schedule\n",
      "\tsolution status: OPTIMAL\n"
     ]
    },
    {
     "data": {
      "image/png": "[encoded data removed]",
      "text/plain": [
       "<Figure size 1008x360 with 2 Axes>"
      ]
     },
     "metadata": {
      "needs_background": "light"
     },
     "output_type": "display_data"
    }
   ],
   "source": [
    "for i in range(10):\n",
    "    start_time = add_and_solve()\n",
    "system.scheduler.plot_solution()\n",
    "plt.axvline(start_time/60, linestyle='--', color='k')\n",
    "plt.show()"
   ]
  },
  {
   "cell_type": "markdown",
   "metadata": {},
   "source": [
    "## Insert tasks with flexible solve"
   ]
  },
  {
   "cell_type": "markdown",
   "metadata": {},
   "source": [
    "In the previous example, no solved start time is allowed to change on subsequent schedule solutions. Even if a Task is scheduled to occur hours later than the current time, it will not be rescheduled.\n",
    "\n",
    "We can allow for future (yet already scheduled) Tasks to be rescheduled by running `system.scheduler.flex(cutoff_time)`, which basically forgets the starting times for anything beyond the cutoff. This can allow us to further optimize a schedule that is still in progress when we insert new protocols. "
   ]
  },
  {
   "cell_type": "code",
   "execution_count": 27,
   "metadata": {},
   "outputs": [],
   "source": [
    "REMAINING_PROTOCOLS = 5\n",
    "BUFFER_TIME = 10\n",
    "BATCH_SIZE = 1\n",
    "\n",
    "def add_and_solve_flexible():\n",
    "    start_time = system.scheduler.get_tasklist_by_worker()[spincoater][-REMAINING_PROTOCOLS].end + BUFFER_TIME #characterization is the final worker, we look at the end time of that task and add some buffer time\n",
    "    system.scheduler.flex(cutoff_time=start_time) #NOTE THIS LINE HAS BEEN ADDED TO FLEX THE SCHEDULE!\n",
    "    for i in range(BATCH_SIZE):\n",
    "        add_generic_protocol(min_start = start_time)\n",
    "\n",
    "    system.scheduler.solve(solve_time=10)\n",
    "    return start_time"
   ]
  },
  {
   "cell_type": "code",
   "execution_count": 28,
   "metadata": {},
   "outputs": [],
   "source": [
    "system = rf.System(\n",
    "    workers=[storage, spincoater, hotplate, arm, characterization],\n",
    "    transitions=transitions,\n",
    "    starting_worker=storage,\n",
    "    ending_worker=storage,\n",
    ")"
   ]
  },
  {
   "cell_type": "code",
   "execution_count": 29,
   "metadata": {},
   "outputs": [
    {
     "name": "stdout",
     "output_type": "stream",
     "text": [
      "Solving final schedule\n",
      "\tsolution status: OPTIMAL\n"
     ]
    },
    {
     "data": {
      "image/png": "[encoded data removed]",
      "text/plain": [
       "<Figure size 1008x360 with 2 Axes>"
      ]
     },
     "metadata": {
      "needs_background": "light"
     },
     "output_type": "display_data"
    }
   ],
   "source": [
    "for i in range(6):\n",
    "    add_generic_protocol()\n",
    "\n",
    "system.scheduler.solve(\n",
    "    solve_time=10,\n",
    ")\n",
    "system.scheduler.plot_solution()"
   ]
  },
  {
   "cell_type": "code",
   "execution_count": 30,
   "metadata": {},
   "outputs": [
    {
     "name": "stdout",
     "output_type": "stream",
     "text": [
      "Solving final schedule\n",
      "\tsolution status: OPTIMAL\n",
      "Solving final schedule\n",
      "\tsolution status: OPTIMAL\n",
      "Solving final schedule\n",
      "\tsolution status: OPTIMAL\n",
      "Solving final schedule\n",
      "\tsolution status: OPTIMAL\n",
      "Solving final schedule\n",
      "\tsolution status: OPTIMAL\n",
      "Solving final schedule\n",
      "\tsolution status: OPTIMAL\n",
      "Solving final schedule\n",
      "\tsolution status: OPTIMAL\n",
      "Solving final schedule\n",
      "\tsolution status: OPTIMAL\n",
      "Solving final schedule\n",
      "\tsolution status: OPTIMAL\n",
      "Solving final schedule\n",
      "\tsolution status: OPTIMAL\n"
     ]
    },
    {
     "data": {
      "image/png": "[encoded data removed]",
      "text/plain": [
       "<Figure size 1008x360 with 2 Axes>"
      ]
     },
     "metadata": {
      "needs_background": "light"
     },
     "output_type": "display_data"
    }
   ],
   "source": [
    "for i in range(10):\n",
    "    start_time = add_and_solve_flexible()\n",
    "system.scheduler.plot_solution()\n",
    "plt.axvline(start_time/60, linestyle='--', color='k')\n",
    "plt.show()"
   ]
  },
  {
   "cell_type": "markdown",
   "metadata": {},
   "source": [
    "After 10 cycles of inserting single protocols, the flexible schedule ends marginally earlier than the earlier one without flex scheduling. Of course, the utility of flex scheduling depends on 1. your specific Protocols and 2. when the Protocols are inserted"
   ]
  }
 ],
 "metadata": {
  "kernelspec": {
   "display_name": "Python 3.8.13 ('alab')",
   "language": "python",
   "name": "python3"
  },
  "language_info": {
   "codemirror_mode": {
    "name": "ipython",
    "version": 3
   },
   "file_extension": ".py",
   "mimetype": "text/x-python",
   "name": "python",
   "nbconvert_exporter": "python",
   "pygments_lexer": "ipython3",
   "version": "3.8.13"
  },
  "orig_nbformat": 4,
  "vscode": {
   "interpreter": {
    "hash": "72cea66af7e377da7a9524951bdc2a523fda5c71ff240fdded7fed5446e2877e"
   }
  }
 },
 "nbformat": 4,
 "nbformat_minor": 2
}
