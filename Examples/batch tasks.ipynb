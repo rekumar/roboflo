{
 "cells": [
  {
   "cell_type": "markdown",
   "metadata": {},
   "source": [
    "# Welcome to Roboflo\n",
    "\n",
    "Task scheduler for any system with coordinated workers. The original use case is for the Perovskite Automated Spin-Coating Assembly Line (PASCAL) in the Fenning Lab at UC San Diego, where a robotic arm moves small glass slides between stations to perform experiments. \n",
    "\n",
    "`roboflo` assumes that you have a set of `Worker`'s that act (independently or in unison) to perform `Task`'s of set duration. Furthermore, one or more `Worker`'s can function to transition between `Task`'s (eg my robot moves a sample from the hotplate to a camera, or my mom moves me from school to soccer practice). These transition moves constitute a special case of `Task`'s , called `Transition`'s. The total set of `Worker`'s and `Transition`'s define your `System`. Sets of `Task`'s are consolidated into `Protocol`'s (eg the same process for five samples or five kids), which are then scheduled (using the `Scheduler` on your `System`) to minimize the total working time. An example schedule is shown below. \n",
    "\n",
    "Happy robot-ing!"
   ]
  },
  {
   "cell_type": "markdown",
   "metadata": {},
   "source": [
    "# Table of Contents\n",
    "\n",
    "1. Basic Usage (you're in the right place!)\n",
    "2. [Inserting Protocols into an existing schedule](./insert%20protocols%20into%20current%20schedule.ipynb)\n",
    "3. [Using Breakpoints](./using%20breakpoints.ipynb)"
   ]
  },
  {
   "cell_type": "code",
   "execution_count": 1,
   "metadata": {},
   "outputs": [],
   "source": [
    "import roboflo as rf"
   ]
  },
  {
   "cell_type": "markdown",
   "metadata": {},
   "source": [
    "# Defining the System"
   ]
  },
  {
   "cell_type": "markdown",
   "metadata": {},
   "source": [
    "First, we need to define our `Worker`'s. A `Worker` is defined by 2-3 variables:\n",
    "\n",
    "- name (str): an identifier for printing the schedule later.\n",
    "- capacity (int): how many units the worker can handle at a given time.\n",
    "- initial_fill (int): optional, the amount units the `Worker` starts with at t=0. This defaults to 0"
   ]
  },
  {
   "cell_type": "code",
   "execution_count": 2,
   "metadata": {},
   "outputs": [],
   "source": [
    "hotplate = rf.Worker(\n",
    "    name='hotplate',\n",
    "    capacity=40,\n",
    "    one_task_at_a_time=True # we cant run more than one annealing procedure simultaneously, as the temperatures/timings would be different.\n",
    ")\n",
    "\n",
    "spincoater = rf.Worker(\n",
    "    name='spincoater',\n",
    "    capacity=1\n",
    ")\n",
    "\n",
    "storage = rf.Worker(\n",
    "    name='storage',\n",
    "    capacity=45,\n",
    "    # initial_fill=45 #the storage starts full!\n",
    ")\n",
    "\n",
    "characterization = rf.Worker(\n",
    "    name='characterization line',\n",
    "    capacity=1\n",
    ")\n",
    "\n",
    "arm = rf.Worker(\n",
    "    name='arm',\n",
    "    capacity=1\n",
    ")"
   ]
  },
  {
   "cell_type": "markdown",
   "metadata": {},
   "source": [
    "Next, we define the `Transition`'s by which units can be moved between `Worker`s. These require four arguments:\n",
    "\n",
    "- duration (int): the time it takes to execute the transition\n",
    "- source (`Worker`): the worker from which the unit is leaving\n",
    "- destination (`Worker`): the worker to which the unit is arriving\n",
    "- workers (list): a list of `Worker`'s which are required to execute this `Transition`"
   ]
  },
  {
   "cell_type": "code",
   "execution_count": 3,
   "metadata": {},
   "outputs": [],
   "source": [
    "transitions = [\n",
    "    rf.Transition(\n",
    "        duration=28,\n",
    "        source=storage,\n",
    "        destination=spincoater,\n",
    "        workers=[arm]\n",
    "    ),\n",
    "    rf.Transition(\n",
    "        duration=20,\n",
    "        source=spincoater,\n",
    "        destination=hotplate,\n",
    "        workers=[arm]\n",
    "    ),\n",
    "    rf.Transition(\n",
    "        duration=15,\n",
    "        source=hotplate,\n",
    "        destination=storage,\n",
    "        workers=[arm]\n",
    "    ),\n",
    "    rf.Transition(\n",
    "        duration=15,\n",
    "        source=storage,\n",
    "        destination=characterization,\n",
    "        workers=[arm]\n",
    "    ),\n",
    "    rf.Transition(\n",
    "        duration=15,\n",
    "        source=characterization,\n",
    "        destination=storage,\n",
    "        workers=[arm]\n",
    "    )\n",
    "]"
   ]
  },
  {
   "cell_type": "markdown",
   "metadata": {},
   "source": [
    "Together, the `Worker` and `Transition` objects constitute our overall `System`. The arguments here are fairly self explanatory:\n",
    "- workers (list): a list of `Worker`'s\n",
    "- transitions (list): a list of `Transition`'s\n",
    "- starting_worker (list): the default `Worker` at which units originate\n",
    "- ending_worker(list): the default `Worker` where units go after their last `Task`\n",
    "- enforce_protocol_order (bool): if `False` (default), protocols may be scheduled out of the order they are generated to reduce total runtime. Tasks within a given protocol will always maintain their order."
   ]
  },
  {
   "cell_type": "code",
   "execution_count": 4,
   "metadata": {},
   "outputs": [],
   "source": [
    "system = rf.System(\n",
    "    workers=[storage, spincoater, hotplate, arm, characterization],\n",
    "    transitions=transitions,\n",
    "    starting_worker=storage,\n",
    "    ending_worker=storage,\n",
    "    enforce_protocol_order=False \n",
    ")"
   ]
  },
  {
   "cell_type": "markdown",
   "metadata": {},
   "source": [
    "# Defining Tasks and Protocols"
   ]
  },
  {
   "cell_type": "markdown",
   "metadata": {},
   "source": [
    "Robotic systems execute a set of known tasks. These are formalized as `Task` objects, which take four arguments:\n",
    "- name (str): the name of this task\n",
    "- workers (list): all `Worker`'s required to execute this task. Note that the _first_ `Worker` in this list is considered the location for `Transition` events.\n",
    "- duration (int): time it takes to execute this task\n",
    "- immediate (bool): True/False indicatind whether or not this task must occur immediately after the preceding task."
   ]
  },
  {
   "cell_type": "code",
   "execution_count": 5,
   "metadata": {},
   "outputs": [],
   "source": [
    "spincoat = rf.Task(\n",
    "    name='spincoat',\n",
    "    workers=[spincoater],\n",
    "    duration=60,\n",
    "    immediate=False #we dont have to start right away\n",
    ")\n",
    "\n",
    "anneal = rf.Task(\n",
    "    name='anneal',\n",
    "    workers=[hotplate],\n",
    "    duration=60*15,\n",
    "    # immediate=True, #we want to start annealing right away\n",
    "    capacity=5,\n",
    ")\n",
    "rest = rf.Task(\n",
    "    name='rest',\n",
    "    workers=[storage],\n",
    "    duration=180,\n",
    "    # immediate=True\n",
    ")\n",
    "characterize = rf.Task(\n",
    "    name='characterize',\n",
    "    workers=[characterization],\n",
    "    duration=300,\n",
    "    immediate=False\n",
    ")"
   ]
  },
  {
   "cell_type": "markdown",
   "metadata": {},
   "source": [
    "Often the same set of `Task`'s are applied in a sequence to multiple units/samples. These are formalized as `Protocol`'s, and are generated using the `System` we defined earlier. Basically we pass a name and worklist (list of `Task`'s in order) to define a `Protocol`.\n",
    "\n",
    "- worklist (list): list of `Task`'s, in order, to be executed on one sample\n",
    "- name (str): Optional, name of this protocol. names must be unique, and one will be filled in if this parameter is left out.\n",
    "- min_start (int): Optional, minimum starting time for this protocol. This is useful when adding protocols to a schedule that is already in progress. Defaults to 0"
   ]
  },
  {
   "cell_type": "code",
   "execution_count": 6,
   "metadata": {},
   "outputs": [],
   "source": [
    "typical_protocol = system.generate_protocol(\n",
    "    worklist = [\n",
    "        spincoat, #the tasks we defined above\n",
    "        anneal,\n",
    "        rest,\n",
    "        characterize\n",
    "    ],\n",
    ")"
   ]
  },
  {
   "cell_type": "code",
   "execution_count": 7,
   "metadata": {},
   "outputs": [
    {
     "data": {
      "text/plain": [
       "[<Transition: storage_to_spincoater, runs from nan - nan>,\n",
       " <Task: spincoat, runs from nan - nan>,\n",
       " <Transition: spincoater_to_hotplate, runs from nan - nan>,\n",
       " <Task: anneal, runs from nan - nan>,\n",
       " <Transition: hotplate_to_storage, runs from nan - nan>,\n",
       " <Task: rest, runs from nan - nan>,\n",
       " <Transition: storage_to_characterization line, runs from nan - nan>,\n",
       " <Task: characterize, runs from nan - nan>,\n",
       " <Transition: characterization line_to_storage, runs from nan - nan>]"
      ]
     },
     "execution_count": 7,
     "metadata": {},
     "output_type": "execute_result"
    }
   ],
   "source": [
    "typical_protocol.worklist"
   ]
  },
  {
   "cell_type": "markdown",
   "metadata": {},
   "source": [
    "A `Protocol` object can be printed to show its contents. Note a few things here:\n",
    "\n",
    "- The protocol has been given a name \"sample{index}\"\n",
    "- While `System.generate_protocol` returns the protocol object, it is stored under the hood - you don't need to keep them in a list, etc.\n",
    "- the worklist contains `Transition` tasks to move between the `Task`s we put into the initial worklist.\n",
    "- the runtimes all show as `nan`. This will be solved when generating our schedule later."
   ]
  },
  {
   "cell_type": "code",
   "execution_count": 8,
   "metadata": {},
   "outputs": [],
   "source": [
    "for i in range(3):\n",
    "    system.generate_protocol(\n",
    "        worklist = [\n",
    "            spincoat, #the tasks we defined above\n",
    "            anneal,\n",
    "            rest,\n",
    "            characterize\n",
    "        ],\n",
    "    )"
   ]
  },
  {
   "cell_type": "markdown",
   "metadata": {},
   "source": [
    "# Scheduling our Protocols"
   ]
  },
  {
   "cell_type": "markdown",
   "metadata": {},
   "source": [
    "The `System` contains a `Scheduler` object at `System.scheduler` - we will use this to solve our schedule. Under the hood this uses [Google's ORTools](https://developers.google.com/optimization). We will get the solution status as either OPTIMAL, FEASIBLE, or UNKNOWN - the first two are ok, the latter probably implies that you have a very complicated set of tasks and need to give the solver a longer (potentially unrealistic) time to solve.\n",
    "\n",
    "arguments:\n",
    "- solve_time (int): seconds to allow the solver to search for optimal scheduling\n",
    "- enforce_protocol_order (bool): True/False, whether to force the schedule to process `Protocol`'s in the order you created them."
   ]
  },
  {
   "cell_type": "code",
   "execution_count": 9,
   "metadata": {},
   "outputs": [
    {
     "name": "stdout",
     "output_type": "stream",
     "text": [
      "Solving final schedule\n",
      "\tsolution status: OPTIMAL\n"
     ]
    }
   ],
   "source": [
    "system.scheduler.solve(\n",
    "    solve_time=10,\n",
    ")"
   ]
  },
  {
   "cell_type": "markdown",
   "metadata": {},
   "source": [
    "### The schedule can be retrieved in three ways:"
   ]
  },
  {
   "cell_type": "markdown",
   "metadata": {},
   "source": [
    "Visually"
   ]
  },
  {
   "cell_type": "code",
   "execution_count": 10,
   "metadata": {},
   "outputs": [
    {
     "data": {
      "image/png": "[encoded data removed]",
      "text/plain": [
       "<Figure size 1008x360 with 2 Axes>"
      ]
     },
     "metadata": {
      "needs_background": "light"
     },
     "output_type": "display_data"
    }
   ],
   "source": [
    "system.scheduler.plot_solution()"
   ]
  },
  {
   "cell_type": "code",
   "execution_count": 17,
   "metadata": {},
   "outputs": [],
   "source": [
    "for i in range(2):\n",
    "    system.generate_protocol(\n",
    "        worklist = [\n",
    "            spincoat, #the tasks we defined above\n",
    "            anneal,\n",
    "            rest,\n",
    "            characterize\n",
    "        ],\n",
    "        min_start = 5*60\n",
    "    )"
   ]
  },
  {
   "cell_type": "code",
   "execution_count": 18,
   "metadata": {},
   "outputs": [
    {
     "name": "stdout",
     "output_type": "stream",
     "text": [
      "Solving final schedule\n",
      "\tsolution status: OPTIMAL\n"
     ]
    }
   ],
   "source": [
    "system.scheduler.solve(\n",
    "    solve_time=10,\n",
    ")"
   ]
  },
  {
   "cell_type": "code",
   "execution_count": 19,
   "metadata": {},
   "outputs": [
    {
     "data": {
      "image/png": "[encoded data removed]",
      "text/plain": [
       "<Figure size 1008x360 with 2 Axes>"
      ]
     },
     "metadata": {
      "needs_background": "light"
     },
     "output_type": "display_data"
    }
   ],
   "source": [
    "system.scheduler.plot_solution()"
   ]
  },
  {
   "cell_type": "markdown",
   "metadata": {},
   "source": [
    "As a list of individual tasks, in order"
   ]
  },
  {
   "cell_type": "code",
   "execution_count": 11,
   "metadata": {},
   "outputs": [
    {
     "data": {
      "text/plain": [
       "[<Transition: storage_to_spincoater, runs from 0 - 28>,\n",
       " <Task: spincoat, runs from 28 - 88>,\n",
       " <Transition: spincoater_to_hotplate, runs from 88 - 108>,\n",
       " <Transition: storage_to_spincoater, runs from 108 - 136>,\n",
       " <Task: spincoat, runs from 136 - 196>,\n",
       " <Transition: spincoater_to_hotplate, runs from 196 - 216>,\n",
       " <Transition: storage_to_spincoater, runs from 216 - 244>,\n",
       " <Task: spincoat, runs from 244 - 304>,\n",
       " <Transition: spincoater_to_hotplate, runs from 304 - 324>,\n",
       " <Transition: storage_to_spincoater, runs from 324 - 352>,\n",
       " <Task: spincoat, runs from 352 - 412>,\n",
       " <Transition: spincoater_to_hotplate, runs from 412 - 432>,\n",
       " <Transition: storage_to_spincoater, runs from 432 - 460>,\n",
       " <Task: spincoat, runs from 460 - 520>,\n",
       " <Transition: spincoater_to_hotplate, runs from 520 - 540>,\n",
       " <Task: anneal, runs from 540 - 1440>,\n",
       " <Transition: storage_to_spincoater, runs from 540 - 568>,\n",
       " <Task: spincoat, runs from 568 - 628>,\n",
       " <Transition: spincoater_to_hotplate, runs from 628 - 648>,\n",
       " <Transition: storage_to_spincoater, runs from 648 - 676>,\n",
       " <Task: spincoat, runs from 676 - 736>,\n",
       " <Transition: spincoater_to_hotplate, runs from 736 - 756>,\n",
       " <Transition: storage_to_spincoater, runs from 756 - 784>,\n",
       " <Task: spincoat, runs from 784 - 844>,\n",
       " <Transition: spincoater_to_hotplate, runs from 844 - 864>,\n",
       " <Transition: storage_to_spincoater, runs from 864 - 892>,\n",
       " <Task: spincoat, runs from 892 - 952>,\n",
       " <Transition: spincoater_to_hotplate, runs from 952 - 972>,\n",
       " <Transition: storage_to_spincoater, runs from 972 - 1000>,\n",
       " <Task: spincoat, runs from 1000 - 1060>,\n",
       " <Transition: spincoater_to_hotplate, runs from 1060 - 1080>,\n",
       " <Transition: storage_to_spincoater, runs from 1080 - 1108>,\n",
       " <Task: spincoat, runs from 1108 - 1168>,\n",
       " <Transition: spincoater_to_hotplate, runs from 1168 - 1188>,\n",
       " <Transition: hotplate_to_storage, runs from 1440 - 1455>,\n",
       " <Task: anneal, runs from 1440 - 2340>,\n",
       " <Task: rest, runs from 1455 - 1635>,\n",
       " <Transition: hotplate_to_storage, runs from 1455 - 1470>,\n",
       " <Task: rest, runs from 1470 - 1650>,\n",
       " <Transition: hotplate_to_storage, runs from 1470 - 1485>,\n",
       " <Task: rest, runs from 1485 - 1665>,\n",
       " <Transition: hotplate_to_storage, runs from 1485 - 1500>,\n",
       " <Task: rest, runs from 1500 - 1680>,\n",
       " <Transition: hotplate_to_storage, runs from 1500 - 1515>,\n",
       " <Task: rest, runs from 1515 - 1695>,\n",
       " <Transition: storage_to_characterization line, runs from 1635 - 1650>,\n",
       " <Task: characterize, runs from 1650 - 1950>,\n",
       " <Transition: characterization line_to_storage, runs from 1950 - 1965>,\n",
       " <Transition: storage_to_characterization line, runs from 1965 - 1980>,\n",
       " <Task: characterize, runs from 1980 - 2280>,\n",
       " <Transition: characterization line_to_storage, runs from 2280 - 2295>,\n",
       " <Transition: storage_to_characterization line, runs from 2295 - 2310>,\n",
       " <Task: characterize, runs from 2310 - 2610>,\n",
       " <Transition: hotplate_to_storage, runs from 2340 - 2355>,\n",
       " <Task: anneal, runs from 2340 - 3240>,\n",
       " <Task: rest, runs from 2355 - 2535>,\n",
       " <Transition: hotplate_to_storage, runs from 2355 - 2370>,\n",
       " <Task: rest, runs from 2370 - 2550>,\n",
       " <Transition: hotplate_to_storage, runs from 2370 - 2385>,\n",
       " <Task: rest, runs from 2385 - 2565>,\n",
       " <Transition: hotplate_to_storage, runs from 2385 - 2400>,\n",
       " <Task: rest, runs from 2400 - 2580>,\n",
       " <Transition: hotplate_to_storage, runs from 2400 - 2415>,\n",
       " <Task: rest, runs from 2415 - 2595>,\n",
       " <Transition: characterization line_to_storage, runs from 2610 - 2625>,\n",
       " <Transition: storage_to_characterization line, runs from 2625 - 2640>,\n",
       " <Task: characterize, runs from 2640 - 2940>,\n",
       " <Transition: characterization line_to_storage, runs from 2940 - 2955>,\n",
       " <Transition: storage_to_characterization line, runs from 2955 - 2970>,\n",
       " <Task: characterize, runs from 2970 - 3270>,\n",
       " <Transition: hotplate_to_storage, runs from 3240 - 3255>,\n",
       " <Task: rest, runs from 3255 - 3435>,\n",
       " <Transition: characterization line_to_storage, runs from 3270 - 3285>,\n",
       " <Transition: storage_to_characterization line, runs from 3285 - 3300>,\n",
       " <Task: characterize, runs from 3300 - 3600>,\n",
       " <Transition: characterization line_to_storage, runs from 3600 - 3615>,\n",
       " <Transition: storage_to_characterization line, runs from 3615 - 3630>,\n",
       " <Task: characterize, runs from 3630 - 3930>,\n",
       " <Transition: characterization line_to_storage, runs from 3930 - 3945>,\n",
       " <Transition: storage_to_characterization line, runs from 3945 - 3960>,\n",
       " <Task: characterize, runs from 3960 - 4260>,\n",
       " <Transition: characterization line_to_storage, runs from 4260 - 4275>,\n",
       " <Transition: storage_to_characterization line, runs from 4275 - 4290>,\n",
       " <Task: characterize, runs from 4290 - 4590>,\n",
       " <Transition: characterization line_to_storage, runs from 4590 - 4605>,\n",
       " <Transition: storage_to_characterization line, runs from 4605 - 4620>,\n",
       " <Task: characterize, runs from 4620 - 4920>,\n",
       " <Transition: characterization line_to_storage, runs from 4920 - 4935>,\n",
       " <Transition: storage_to_characterization line, runs from 4935 - 4950>,\n",
       " <Task: characterize, runs from 4950 - 5250>,\n",
       " <Transition: characterization line_to_storage, runs from 5250 - 5265>]"
      ]
     },
     "execution_count": 11,
     "metadata": {},
     "output_type": "execute_result"
    }
   ],
   "source": [
    "system.scheduler.get_tasklist()"
   ]
  },
  {
   "cell_type": "markdown",
   "metadata": {},
   "source": [
    "As a dictionary, where the tasklist is split into a list per worker. Each list is in order."
   ]
  },
  {
   "cell_type": "code",
   "execution_count": 13,
   "metadata": {},
   "outputs": [
    {
     "name": "stdout",
     "output_type": "stream",
     "text": [
      "<Worker: storage>: 11 tasks, running from 1455-3435\n",
      "<Worker: spincoater>: 11 tasks, running from 28-1168\n",
      "<Worker: hotplate>: 3 tasks, running from 540-3240\n",
      "<Worker: arm>: 55 tasks, running from 0-5265\n",
      "<Worker: characterization line>: 11 tasks, running from 1650-5250\n"
     ]
    }
   ],
   "source": [
    "tasks_by_worker = system.scheduler.get_tasklist_by_worker()\n",
    "for worker, tasklist in tasks_by_worker.items():\n",
    "    print(f'{worker}: {len(tasklist)} tasks, running from {tasklist[0].start}-{tasklist[-1].end}')"
   ]
  },
  {
   "cell_type": "markdown",
   "metadata": {},
   "source": [
    "In each list representation, the start and end times of each `Task` can be accessed to be fed into downstream processes."
   ]
  },
  {
   "cell_type": "code",
   "execution_count": 14,
   "metadata": {},
   "outputs": [
    {
     "data": {
      "text/plain": [
       "[<Task: characterize, runs from 1650 - 1950>,\n",
       " <Task: characterize, runs from 1980 - 2280>,\n",
       " <Task: characterize, runs from 2310 - 2610>,\n",
       " <Task: characterize, runs from 2640 - 2940>,\n",
       " <Task: characterize, runs from 2970 - 3270>,\n",
       " <Task: characterize, runs from 3300 - 3600>,\n",
       " <Task: characterize, runs from 3630 - 3930>,\n",
       " <Task: characterize, runs from 3960 - 4260>,\n",
       " <Task: characterize, runs from 4290 - 4590>,\n",
       " <Task: characterize, runs from 4620 - 4920>,\n",
       " <Task: characterize, runs from 4950 - 5250>]"
      ]
     },
     "execution_count": 14,
     "metadata": {},
     "output_type": "execute_result"
    }
   ],
   "source": [
    "tasklist"
   ]
  },
  {
   "cell_type": "code",
   "execution_count": 15,
   "metadata": {},
   "outputs": [
    {
     "data": {
      "text/plain": [
       "<Task: characterize, runs from 1650 - 1950>"
      ]
     },
     "execution_count": 15,
     "metadata": {},
     "output_type": "execute_result"
    }
   ],
   "source": [
    "first_task = tasklist[0]\n",
    "first_task"
   ]
  },
  {
   "cell_type": "code",
   "execution_count": 16,
   "metadata": {},
   "outputs": [
    {
     "name": "stdout",
     "output_type": "stream",
     "text": [
      "this task start at: 1650\n",
      "this task ends at: 1950\n"
     ]
    }
   ],
   "source": [
    "print('this task start at:', first_task.start)\n",
    "print('this task ends at:', first_task.end)"
   ]
  },
  {
   "cell_type": "code",
   "execution_count": null,
   "metadata": {},
   "outputs": [],
   "source": []
  }
 ],
 "metadata": {
  "kernelspec": {
   "display_name": "Python 3.8.13 ('alab')",
   "language": "python",
   "name": "python3"
  },
  "language_info": {
   "codemirror_mode": {
    "name": "ipython",
    "version": 3
   },
   "file_extension": ".py",
   "mimetype": "text/x-python",
   "name": "python",
   "nbconvert_exporter": "python",
   "pygments_lexer": "ipython3",
   "version": "3.8.13"
  },
  "orig_nbformat": 4,
  "vscode": {
   "interpreter": {
    "hash": "72cea66af7e377da7a9524951bdc2a523fda5c71ff240fdded7fed5446e2877e"
   }
  }
 },
 "nbformat": 4,
 "nbformat_minor": 2
}
