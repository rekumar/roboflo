{
 "cells": [
  {
   "cell_type": "markdown",
   "metadata": {},
   "source": [
    "# Welcome to Roboflo\n",
    "\n",
    "Task scheduler for any system with coordinated workers. The original use case is for the Perovskite Automated Spin-Coating Assembly Line (PASCAL) in the Fenning Lab at UC San Diego, where a robotic arm moves small glass slides between stations to perform experiments. \n",
    "\n",
    "`roboflo` assumes that you have a set of `Worker`'s that act (independently or in unison) to perform `Task`'s of set duration. Furthermore, one or more `Worker`'s can function to transition between `Task`'s (eg my robot moves a sample from the hotplate to a camera, or my mom moves me from school to soccer practice). These transition moves constitute a special case of `Task`'s , called `Transition`'s. The total set of `Worker`'s and `Transition`'s define your `System`. Sets of `Task`'s are consolidated into `Protocol`'s (eg the same process for five samples or five kids), which are then scheduled (using the `Scheduler` on your `System`) to minimize the total working time. An example schedule is shown below. \n",
    "\n",
    "Happy robot-ing!"
   ]
  },
  {
   "cell_type": "markdown",
   "metadata": {},
   "source": [
    "# Table of Contents\n",
    "\n",
    "1. Basic Usage (you're in the right place!)\n",
    "2. [Inserting Protocols into an existing schedule](./insert%20protocols%20into%20current%20schedule.ipynb)\n",
    "3. [Using Breakpoints](./using%20breakpoints.ipynb)"
   ]
  },
  {
   "cell_type": "code",
   "execution_count": 11,
   "metadata": {},
   "outputs": [],
   "source": [
    "import roboflo as rf"
   ]
  },
  {
   "cell_type": "markdown",
   "metadata": {},
   "source": [
    "# Defining the System"
   ]
  },
  {
   "cell_type": "markdown",
   "metadata": {},
   "source": [
    "First, we need to define our `Worker`'s. A `Worker` is defined by 2-3 variables:\n",
    "\n",
    "- name (str): an identifier for printing the schedule later.\n",
    "- capacity (int): how many units the worker can handle at a given time.\n",
    "- initial_fill (int): optional, the amount units the `Worker` starts with at t=0. This defaults to 0"
   ]
  },
  {
   "cell_type": "code",
   "execution_count": 12,
   "metadata": {},
   "outputs": [],
   "source": [
    "hotplate = rf.Worker(\n",
    "    name='hotplate',\n",
    "    capacity=40,\n",
    "    one_task_at_a_time=True # we cant run more than one annealing procedure simultaneously, as the temperatures/timings would be different.\n",
    ")\n",
    "\n",
    "spincoater = rf.Worker(\n",
    "    name='spincoater',\n",
    "    capacity=1\n",
    ")\n",
    "\n",
    "storage = rf.Worker(\n",
    "    name='storage',\n",
    "    capacity=45,\n",
    "    # initial_fill=45 #the storage starts full!\n",
    ")\n",
    "\n",
    "characterization = rf.Worker(\n",
    "    name='characterization line',\n",
    "    capacity=1\n",
    ")\n",
    "\n",
    "arm = rf.Worker(\n",
    "    name='arm',\n",
    "    capacity=1\n",
    ")"
   ]
  },
  {
   "cell_type": "markdown",
   "metadata": {},
   "source": [
    "Next, we define the `Transition`'s by which units can be moved between `Worker`s. These require four arguments:\n",
    "\n",
    "- duration (int): the time it takes to execute the transition\n",
    "- source (`Worker`): the worker from which the unit is leaving\n",
    "- destination (`Worker`): the worker to which the unit is arriving\n",
    "- workers (list): a list of `Worker`'s which are required to execute this `Transition`"
   ]
  },
  {
   "cell_type": "code",
   "execution_count": 13,
   "metadata": {},
   "outputs": [],
   "source": [
    "transitions = [\n",
    "    rf.Transition(\n",
    "        duration=28,\n",
    "        source=storage,\n",
    "        destination=spincoater,\n",
    "        workers=[arm]\n",
    "    ),\n",
    "    rf.Transition(\n",
    "        duration=20,\n",
    "        source=spincoater,\n",
    "        destination=hotplate,\n",
    "        workers=[arm]\n",
    "    ),\n",
    "    rf.Transition(\n",
    "        duration=15,\n",
    "        source=hotplate,\n",
    "        destination=storage,\n",
    "        workers=[arm]\n",
    "    ),\n",
    "    rf.Transition(\n",
    "        duration=15,\n",
    "        source=storage,\n",
    "        destination=characterization,\n",
    "        workers=[arm]\n",
    "    ),\n",
    "    rf.Transition(\n",
    "        duration=15,\n",
    "        source=characterization,\n",
    "        destination=storage,\n",
    "        workers=[arm]\n",
    "    )\n",
    "]"
   ]
  },
  {
   "cell_type": "markdown",
   "metadata": {},
   "source": [
    "Together, the `Worker` and `Transition` objects constitute our overall `System`. The arguments here are fairly self explanatory:\n",
    "- workers (list): a list of `Worker`'s\n",
    "- transitions (list): a list of `Transition`'s\n",
    "- starting_worker (list): the default `Worker` at which units originate\n",
    "- ending_worker(list): the default `Worker` where units go after their last `Task`\n",
    "- enforce_protocol_order (bool): if `False` (default), protocols may be scheduled out of the order they are generated to reduce total runtime. Tasks within a given protocol will always maintain their order."
   ]
  },
  {
   "cell_type": "code",
   "execution_count": 14,
   "metadata": {},
   "outputs": [],
   "source": [
    "system = rf.System(\n",
    "    workers=[storage, spincoater, hotplate, arm, characterization],\n",
    "    transitions=transitions,\n",
    "    starting_worker=storage,\n",
    "    ending_worker=storage,\n",
    "    enforce_protocol_order=False \n",
    ")"
   ]
  },
  {
   "cell_type": "markdown",
   "metadata": {},
   "source": [
    "# Defining Tasks and Protocols"
   ]
  },
  {
   "cell_type": "markdown",
   "metadata": {},
   "source": [
    "Robotic systems execute a set of known tasks. These are formalized as `Task` objects, which take four arguments:\n",
    "- name (str): the name of this task\n",
    "- workers (list): all `Worker`'s required to execute this task. Note that the _first_ `Worker` in this list is considered the location for `Transition` events.\n",
    "- duration (int): time it takes to execute this task\n",
    "- immediate (bool): True/False indicatind whether or not this task must occur immediately after the preceding task."
   ]
  },
  {
   "cell_type": "code",
   "execution_count": 15,
   "metadata": {},
   "outputs": [],
   "source": [
    "spincoat = rf.Task(\n",
    "    name='spincoat',\n",
    "    workers=[spincoater],\n",
    "    duration=60,\n",
    "    immediate=False #we dont have to start right away\n",
    ")\n",
    "\n",
    "anneal = rf.Task(\n",
    "    name='anneal',\n",
    "    workers=[hotplate],\n",
    "    duration=60*15,\n",
    "    # immediate=True, #we want to start annealing right away\n",
    "    capacity=5,\n",
    ")\n",
    "rest = rf.Task(\n",
    "    name='rest',\n",
    "    workers=[storage],\n",
    "    duration=180,\n",
    "    # immediate=True\n",
    ")\n",
    "characterize = rf.Task(\n",
    "    name='characterize',\n",
    "    workers=[characterization],\n",
    "    duration=300,\n",
    "    immediate=False\n",
    ")"
   ]
  },
  {
   "cell_type": "markdown",
   "metadata": {},
   "source": [
    "Often the same set of `Task`'s are applied in a sequence to multiple units/samples. These are formalized as `Protocol`'s, and are generated using the `System` we defined earlier. Basically we pass a name and worklist (list of `Task`'s in order) to define a `Protocol`.\n",
    "\n",
    "- worklist (list): list of `Task`'s, in order, to be executed on one sample\n",
    "- name (str): Optional, name of this protocol. names must be unique, and one will be filled in if this parameter is left out.\n",
    "- min_start (int): Optional, minimum starting time for this protocol. This is useful when adding protocols to a schedule that is already in progress. Defaults to 0"
   ]
  },
  {
   "cell_type": "code",
   "execution_count": 16,
   "metadata": {},
   "outputs": [],
   "source": [
    "typical_protocol = system.generate_protocol(\n",
    "    worklist = [\n",
    "        spincoat, #the tasks we defined above\n",
    "        anneal,\n",
    "        rest,\n",
    "        characterize\n",
    "    ],\n",
    ")"
   ]
  },
  {
   "cell_type": "code",
   "execution_count": 17,
   "metadata": {},
   "outputs": [
    {
     "data": {
      "text/plain": [
       "[<Transition: storage_to_spincoater, runs from nan - nan>,\n",
       " <Task: spincoat, runs from nan - nan>,\n",
       " <Transition: spincoater_to_hotplate, runs from nan - nan>,\n",
       " <Task: anneal, runs from nan - nan>,\n",
       " <Transition: hotplate_to_storage, runs from nan - nan>,\n",
       " <Task: rest, runs from nan - nan>,\n",
       " <Transition: storage_to_characterization line, runs from nan - nan>,\n",
       " <Task: characterize, runs from nan - nan>,\n",
       " <Transition: characterization line_to_storage, runs from nan - nan>]"
      ]
     },
     "execution_count": 17,
     "metadata": {},
     "output_type": "execute_result"
    }
   ],
   "source": [
    "typical_protocol.worklist"
   ]
  },
  {
   "cell_type": "markdown",
   "metadata": {},
   "source": [
    "A `Protocol` object can be printed to show its contents. Note a few things here:\n",
    "\n",
    "- The protocol has been given a name \"sample{index}\"\n",
    "- While `System.generate_protocol` returns the protocol object, it is stored under the hood - you don't need to keep them in a list, etc.\n",
    "- the worklist contains `Transition` tasks to move between the `Task`s we put into the initial worklist.\n",
    "- the runtimes all show as `nan`. This will be solved when generating our schedule later."
   ]
  },
  {
   "cell_type": "code",
   "execution_count": 18,
   "metadata": {},
   "outputs": [],
   "source": [
    "for i in range(32):\n",
    "    system.generate_protocol(\n",
    "        worklist = [\n",
    "            spincoat, #the tasks we defined above\n",
    "            anneal,\n",
    "            rest,\n",
    "            characterize\n",
    "        ],\n",
    "    )"
   ]
  },
  {
   "cell_type": "markdown",
   "metadata": {},
   "source": [
    "# Scheduling our Protocols"
   ]
  },
  {
   "cell_type": "markdown",
   "metadata": {},
   "source": [
    "The `System` contains a `Scheduler` object at `System.scheduler` - we will use this to solve our schedule. Under the hood this uses [Google's ORTools](https://developers.google.com/optimization). We will get the solution status as either OPTIMAL, FEASIBLE, or UNKNOWN - the first two are ok, the latter probably implies that you have a very complicated set of tasks and need to give the solver a longer (potentially unrealistic) time to solve.\n",
    "\n",
    "arguments:\n",
    "- solve_time (int): seconds to allow the solver to search for optimal scheduling\n",
    "- enforce_protocol_order (bool): True/False, whether to force the schedule to process `Protocol`'s in the order you created them."
   ]
  },
  {
   "cell_type": "code",
   "execution_count": 19,
   "metadata": {},
   "outputs": [
    {
     "name": "stdout",
     "output_type": "stream",
     "text": [
      "Solving final schedule\n",
      "\tsolution status: FEASIBLE\n"
     ]
    }
   ],
   "source": [
    "system.scheduler.solve(\n",
    "    solve_time=10,\n",
    ")"
   ]
  },
  {
   "cell_type": "markdown",
   "metadata": {},
   "source": [
    "### The schedule can be retrieved in three ways:"
   ]
  },
  {
   "cell_type": "markdown",
   "metadata": {},
   "source": [
    "Visually"
   ]
  },
  {
   "cell_type": "code",
   "execution_count": 20,
   "metadata": {},
   "outputs": [
    {
     "data": {
      "image/png": "[encoded data removed]",
      "text/plain": [
       "<Figure size 1008x360 with 2 Axes>"
      ]
     },
     "metadata": {
      "needs_background": "light"
     },
     "output_type": "display_data"
    }
   ],
   "source": [
    "system.scheduler.plot_solution()"
   ]
  },
  {
   "cell_type": "markdown",
   "metadata": {},
   "source": [
    "As a list of individual tasks, in order"
   ]
  },
  {
   "cell_type": "code",
   "execution_count": null,
   "metadata": {},
   "outputs": [
    {
     "data": {
      "text/plain": [
       "[<Transition: storage_to_spincoater, runs from 0 - 28>,\n",
       " <Task: spincoat, runs from 28 - 88>,\n",
       " <Transition: spincoater_to_hotplate, runs from 88 - 108>,\n",
       " <Task: anneal, runs from 108 - 1008>,\n",
       " <Transition: storage_to_spincoater, runs from 109 - 137>,\n",
       " <Task: spincoat, runs from 239 - 299>,\n",
       " <Transition: spincoater_to_hotplate, runs from 299 - 319>,\n",
       " <Task: anneal, runs from 319 - 1219>,\n",
       " <Transition: storage_to_spincoater, runs from 319 - 347>,\n",
       " <Task: spincoat, runs from 569 - 629>,\n",
       " <Transition: spincoater_to_hotplate, runs from 629 - 649>,\n",
       " <Task: anneal, runs from 649 - 1549>,\n",
       " <Transition: storage_to_spincoater, runs from 649 - 677>,\n",
       " <Task: spincoat, runs from 677 - 737>,\n",
       " <Transition: spincoater_to_hotplate, runs from 737 - 757>,\n",
       " <Task: anneal, runs from 757 - 1657>,\n",
       " <Transition: storage_to_spincoater, runs from 757 - 785>,\n",
       " <Task: spincoat, runs from 785 - 845>,\n",
       " <Transition: spincoater_to_hotplate, runs from 845 - 865>,\n",
       " <Task: anneal, runs from 865 - 1765>,\n",
       " <Transition: storage_to_spincoater, runs from 865 - 893>,\n",
       " <Task: spincoat, runs from 901 - 961>,\n",
       " <Transition: spincoater_to_hotplate, runs from 961 - 981>,\n",
       " <Task: anneal, runs from 981 - 1881>,\n",
       " <Transition: storage_to_spincoater, runs from 981 - 1009>,\n",
       " <Transition: hotplate_to_storage, runs from 1008 - 1023>,\n",
       " <Task: spincoat, runs from 1009 - 1069>,\n",
       " <Task: rest, runs from 1023 - 1203>,\n",
       " <Transition: spincoater_to_hotplate, runs from 1069 - 1089>,\n",
       " <Task: anneal, runs from 1089 - 1989>,\n",
       " <Transition: storage_to_spincoater, runs from 1090 - 1118>,\n",
       " <Task: spincoat, runs from 1118 - 1178>,\n",
       " <Transition: spincoater_to_hotplate, runs from 1178 - 1198>,\n",
       " <Task: anneal, runs from 1198 - 2098>,\n",
       " <Transition: storage_to_characterization line, runs from 1203 - 1218>,\n",
       " <Task: characterize, runs from 1218 - 1518>,\n",
       " <Transition: hotplate_to_storage, runs from 1219 - 1234>,\n",
       " <Task: rest, runs from 1234 - 1414>,\n",
       " <Transition: characterization line_to_storage, runs from 1518 - 1533>,\n",
       " <Transition: storage_to_characterization line, runs from 1533 - 1548>,\n",
       " <Task: characterize, runs from 1548 - 1848>,\n",
       " <Transition: hotplate_to_storage, runs from 1549 - 1564>,\n",
       " <Task: rest, runs from 1564 - 1744>,\n",
       " <Transition: hotplate_to_storage, runs from 1657 - 1672>,\n",
       " <Task: rest, runs from 1672 - 1852>,\n",
       " <Transition: hotplate_to_storage, runs from 1765 - 1780>,\n",
       " <Task: rest, runs from 1780 - 1960>,\n",
       " <Transition: characterization line_to_storage, runs from 1848 - 1863>,\n",
       " <Transition: storage_to_characterization line, runs from 1863 - 1878>,\n",
       " <Task: characterize, runs from 1878 - 2178>,\n",
       " <Transition: hotplate_to_storage, runs from 1881 - 1896>,\n",
       " <Task: rest, runs from 1896 - 2076>,\n",
       " <Transition: storage_to_spincoater, runs from 1962 - 1990>,\n",
       " <Transition: hotplate_to_storage, runs from 1989 - 2004>,\n",
       " <Task: rest, runs from 2004 - 2184>,\n",
       " <Transition: hotplate_to_storage, runs from 2098 - 2113>,\n",
       " <Task: rest, runs from 2113 - 2293>,\n",
       " <Transition: characterization line_to_storage, runs from 2178 - 2193>,\n",
       " <Transition: storage_to_characterization line, runs from 2193 - 2208>,\n",
       " <Task: characterize, runs from 2208 - 2508>,\n",
       " <Task: spincoat, runs from 2219 - 2279>,\n",
       " <Transition: spincoater_to_hotplate, runs from 2279 - 2299>,\n",
       " <Task: anneal, runs from 2299 - 3199>,\n",
       " <Transition: characterization line_to_storage, runs from 2508 - 2523>,\n",
       " <Transition: storage_to_characterization line, runs from 2523 - 2538>,\n",
       " <Task: characterize, runs from 2538 - 2838>,\n",
       " <Transition: storage_to_spincoater, runs from 2802 - 2830>,\n",
       " <Task: spincoat, runs from 2830 - 2890>,\n",
       " <Transition: characterization line_to_storage, runs from 2838 - 2853>,\n",
       " <Transition: storage_to_characterization line, runs from 2853 - 2868>,\n",
       " <Task: characterize, runs from 2868 - 3168>,\n",
       " <Transition: spincoater_to_hotplate, runs from 2890 - 2910>,\n",
       " <Task: anneal, runs from 2910 - 3810>,\n",
       " <Transition: characterization line_to_storage, runs from 3168 - 3183>,\n",
       " <Transition: storage_to_characterization line, runs from 3183 - 3198>,\n",
       " <Task: characterize, runs from 3198 - 3498>,\n",
       " <Transition: hotplate_to_storage, runs from 3199 - 3214>,\n",
       " <Task: rest, runs from 3214 - 3394>,\n",
       " <Transition: characterization line_to_storage, runs from 3498 - 3513>,\n",
       " <Transition: storage_to_characterization line, runs from 3513 - 3528>,\n",
       " <Task: characterize, runs from 3528 - 3828>,\n",
       " <Transition: hotplate_to_storage, runs from 3810 - 3825>,\n",
       " <Task: rest, runs from 3825 - 4005>,\n",
       " <Transition: characterization line_to_storage, runs from 3828 - 3843>,\n",
       " <Transition: storage_to_characterization line, runs from 3843 - 3858>,\n",
       " <Task: characterize, runs from 3858 - 4158>,\n",
       " <Transition: characterization line_to_storage, runs from 4158 - 4173>,\n",
       " <Transition: storage_to_characterization line, runs from 4173 - 4188>,\n",
       " <Task: characterize, runs from 4188 - 4488>,\n",
       " <Transition: characterization line_to_storage, runs from 4488 - 4503>]"
      ]
     },
     "execution_count": 15,
     "metadata": {},
     "output_type": "execute_result"
    }
   ],
   "source": [
    "system.scheduler.get_tasklist()"
   ]
  },
  {
   "cell_type": "markdown",
   "metadata": {},
   "source": [
    "As a dictionary, where the tasklist is split into a list per worker. Each list is in order."
   ]
  },
  {
   "cell_type": "code",
   "execution_count": null,
   "metadata": {},
   "outputs": [
    {
     "name": "stdout",
     "output_type": "stream",
     "text": [
      "<Worker: storage>: 10 tasks, running from 1023-4005\n",
      "<Worker: spincoater>: 10 tasks, running from 28-2890\n",
      "<Worker: hotplate>: 10 tasks, running from 108-3810\n",
      "<Worker: arm>: 50 tasks, running from 0-4503\n",
      "<Worker: characterization line>: 10 tasks, running from 1218-4488\n"
     ]
    }
   ],
   "source": [
    "tasks_by_worker = system.scheduler.get_tasklist_by_worker()\n",
    "for worker, tasklist in tasks_by_worker.items():\n",
    "    print(f'{worker}: {len(tasklist)} tasks, running from {tasklist[0].start}-{tasklist[-1].end}')"
   ]
  },
  {
   "cell_type": "markdown",
   "metadata": {},
   "source": [
    "In each list representation, the start and end times of each `Task` can be accessed to be fed into downstream processes."
   ]
  },
  {
   "cell_type": "code",
   "execution_count": null,
   "metadata": {},
   "outputs": [
    {
     "data": {
      "text/plain": [
       "[<Task: characterize, runs from 1218 - 1518>,\n",
       " <Task: characterize, runs from 1548 - 1848>,\n",
       " <Task: characterize, runs from 1878 - 2178>,\n",
       " <Task: characterize, runs from 2208 - 2508>,\n",
       " <Task: characterize, runs from 2538 - 2838>,\n",
       " <Task: characterize, runs from 2868 - 3168>,\n",
       " <Task: characterize, runs from 3198 - 3498>,\n",
       " <Task: characterize, runs from 3528 - 3828>,\n",
       " <Task: characterize, runs from 3858 - 4158>,\n",
       " <Task: characterize, runs from 4188 - 4488>]"
      ]
     },
     "execution_count": 19,
     "metadata": {},
     "output_type": "execute_result"
    }
   ],
   "source": [
    "tasklist"
   ]
  },
  {
   "cell_type": "code",
   "execution_count": null,
   "metadata": {},
   "outputs": [
    {
     "data": {
      "text/plain": [
       "<Task: characterize, runs from 1218 - 1518>"
      ]
     },
     "execution_count": 20,
     "metadata": {},
     "output_type": "execute_result"
    }
   ],
   "source": [
    "first_task = tasklist[0]\n",
    "first_task"
   ]
  },
  {
   "cell_type": "code",
   "execution_count": null,
   "metadata": {},
   "outputs": [
    {
     "name": "stdout",
     "output_type": "stream",
     "text": [
      "this task start at: 1218\n",
      "this task ends at: 1518\n"
     ]
    }
   ],
   "source": [
    "print('this task start at:', first_task.start)\n",
    "print('this task ends at:', first_task.end)"
   ]
  }
 ],
 "metadata": {
  "kernelspec": {
   "display_name": "Python 3.8.13 ('alab')",
   "language": "python",
   "name": "python3"
  },
  "language_info": {
   "codemirror_mode": {
    "name": "ipython",
    "version": 3
   },
   "file_extension": ".py",
   "mimetype": "text/x-python",
   "name": "python",
   "nbconvert_exporter": "python",
   "pygments_lexer": "ipython3",
   "version": "3.8.13"
  },
  "orig_nbformat": 4,
  "vscode": {
   "interpreter": {
    "hash": "72cea66af7e377da7a9524951bdc2a523fda5c71ff240fdded7fed5446e2877e"
   }
  }
 },
 "nbformat": 4,
 "nbformat_minor": 2
}
